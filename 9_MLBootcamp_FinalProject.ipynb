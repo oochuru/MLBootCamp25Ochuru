{
  "nbformat": 4,
  "nbformat_minor": 0,
  "metadata": {
    "colab": {
      "provenance": [],
      "gpuType": "T4",
      "include_colab_link": true
    },
    "kernelspec": {
      "name": "python3",
      "display_name": "Python 3"
    },
    "language_info": {
      "name": "python"
    },
    "accelerator": "GPU"
  },
  "cells": [
    {
      "cell_type": "markdown",
      "metadata": {
        "id": "view-in-github",
        "colab_type": "text"
      },
      "source": [
        "<a href=\"https://colab.research.google.com/github/oochuru/MLBootCamp25Ochuru/blob/main/9_MLBootcamp_FinalProject.ipynb\" target=\"_parent\"><img src=\"https://colab.research.google.com/assets/colab-badge.svg\" alt=\"Open In Colab\"/></a>"
      ]
    },
    {
      "cell_type": "markdown",
      "source": [
        "# Machine Learning Bootcamp 2025\n",
        "\n",
        "### Final Project: Train a Deep Learning model to identify Grocery item"
      ],
      "metadata": {
        "id": "DoJf9K5qna65"
      }
    },
    {
      "cell_type": "code",
      "source": [
        "import torch\n",
        "import torch.nn as nn\n",
        "import torch.optim as optim\n",
        "from torchvision import datasets, transforms, models\n",
        "from torch.utils.data import DataLoader\n",
        "import matplotlib.pyplot as plt\n",
        "import numpy as np\n",
        "from PIL import Image\n",
        "import os\n",
        "import csv\n",
        "from datetime import datetime"
      ],
      "metadata": {
        "id": "W9Dh8fuk22i9"
      },
      "execution_count": 17,
      "outputs": []
    },
    {
      "cell_type": "code",
      "source": [
        "from google.colab import drive\n",
        "drive.mount('/content/drive')"
      ],
      "metadata": {
        "id": "bNyiB92AE8Vw",
        "outputId": "a2f62888-34d2-4afe-adad-c5a632957232",
        "colab": {
          "base_uri": "https://localhost:8080/"
        }
      },
      "execution_count": 18,
      "outputs": [
        {
          "output_type": "stream",
          "name": "stdout",
          "text": [
            "Drive already mounted at /content/drive; to attempt to forcibly remount, call drive.mount(\"/content/drive\", force_remount=True).\n"
          ]
        }
      ]
    },
    {
      "cell_type": "code",
      "source": [
        "# NOTE: Create directory 'Datasets/GroceryStoreDataset', unzip the shared dataset in it and mount the Google Drive\n",
        "# The original dataset used is: https://www.kaggle.com/datasets/validmodel/grocery-store-dataset?resource=download and it has been reduced further for our use-case\n",
        "data_dir = '/content/drive/MyDrive/GroceryStoreDataset'  # Mount dataset in Google Drive"
      ],
      "metadata": {
        "id": "i9aVO01L27cu"
      },
      "execution_count": 19,
      "outputs": []
    },
    {
      "cell_type": "code",
      "source": [
        "device = torch.device(\"cuda:0\" if torch.cuda.is_available() else \"cpu\")\n",
        "print(f\"Device: {device}\")"
      ],
      "metadata": {
        "id": "DiJakegpcKuW",
        "colab": {
          "base_uri": "https://localhost:8080/"
        },
        "outputId": "f443e4c9-f235-4b52-c32f-961a6aad1fed"
      },
      "execution_count": 20,
      "outputs": [
        {
          "output_type": "stream",
          "name": "stdout",
          "text": [
            "Device: cuda:0\n"
          ]
        }
      ]
    },
    {
      "cell_type": "code",
      "source": [
        "def extract_class_names(csv_file_path):\n",
        "    \"\"\"\n",
        "    Extracts class names from a CSV file and returns them as a list.\n",
        "\n",
        "    Args:\n",
        "        csv_file_path (str): The path to the CSV file.\n",
        "\n",
        "    Returns:\n",
        "        tuple: A tuple containing a list of class names and the number of classes.\n",
        "               Returns (None, 0) if the file does not exist or an error occurs.\n",
        "    \"\"\"\n",
        "    try:\n",
        "        with open(csv_file_path, 'r') as file:\n",
        "            reader = csv.reader(file)\n",
        "            next(reader)  # Skip header row if it exists\n",
        "            class_names = [row[2] for row in reader]  # Assuming class names are in the first column\n",
        "            class_names = sorted(set(class_names))\n",
        "        return class_names, len(class_names)\n",
        "\n",
        "    except FileNotFoundError:\n",
        "        print(f\"Error: File '{csv_file_path}' not found.\")\n",
        "        return None, 0\n",
        "    except Exception as e:\n",
        "        print(f\"An error occurred: {e}\")\n",
        "        return None, 0"
      ],
      "metadata": {
        "id": "0czv7aeM3wTU"
      },
      "execution_count": 21,
      "outputs": []
    },
    {
      "cell_type": "code",
      "source": [
        "# Data augmentation and normalization\n",
        "data_transforms = {\n",
        "    'train': transforms.Compose([\n",
        "        transforms.RandomResizedCrop(224),\n",
        "        transforms.RandomHorizontalFlip(),\n",
        "        transforms.ToTensor(),\n",
        "        transforms.Normalize([0.485, 0.456, 0.406], [0.229, 0.224, 0.225])\n",
        "    ]),\n",
        "    'test': transforms.Compose([\n",
        "        transforms.Resize(256),\n",
        "        transforms.CenterCrop(224),\n",
        "        transforms.ToTensor(),\n",
        "        transforms.Normalize([0.485, 0.456, 0.406], [0.229, 0.224, 0.225])\n",
        "    ]),\n",
        "}"
      ],
      "metadata": {
        "id": "u8SYV_DN4HLk"
      },
      "execution_count": 22,
      "outputs": []
    },
    {
      "cell_type": "code",
      "source": [
        "# Identify that all folders are accessible from mounted Google Drive\n",
        "for x in ['train', 'test']:\n",
        "  path_new = os.path.join(data_dir, x)\n",
        "  print(path_new)\n",
        "  for folder in os.listdir(path_new):\n",
        "    folder_path = os.path.join(path_new, folder)\n",
        "    print(folder_path)\n"
      ],
      "metadata": {
        "colab": {
          "base_uri": "https://localhost:8080/"
        },
        "id": "bzWojEfRI_mG",
        "outputId": "67c1d3a8-2ffb-48d0-c8f5-bd5d86865756"
      },
      "execution_count": 23,
      "outputs": [
        {
          "output_type": "stream",
          "name": "stdout",
          "text": [
            "/content/drive/MyDrive/GroceryStoreDataset/train\n",
            "/content/drive/MyDrive/GroceryStoreDataset/train/Avocado\n",
            "/content/drive/MyDrive/GroceryStoreDataset/train/Granny-Smith\n",
            "/content/drive/MyDrive/GroceryStoreDataset/train/Red-Delicious\n",
            "/content/drive/MyDrive/GroceryStoreDataset/train/Banana\n",
            "/content/drive/MyDrive/GroceryStoreDataset/train/Pomegranate\n",
            "/content/drive/MyDrive/GroceryStoreDataset/train/Passion-Fruit\n",
            "/content/drive/MyDrive/GroceryStoreDataset/train/Nectarine\n",
            "/content/drive/MyDrive/GroceryStoreDataset/train/Lemon\n",
            "/content/drive/MyDrive/GroceryStoreDataset/train/Papaya\n",
            "/content/drive/MyDrive/GroceryStoreDataset/train/Plum\n",
            "/content/drive/MyDrive/GroceryStoreDataset/train/Lime\n",
            "/content/drive/MyDrive/GroceryStoreDataset/train/Kiwi\n",
            "/content/drive/MyDrive/GroceryStoreDataset/train/Red-Grapefruit\n",
            "/content/drive/MyDrive/GroceryStoreDataset/train/Pineapple\n",
            "/content/drive/MyDrive/GroceryStoreDataset/train/Cantaloupe\n",
            "/content/drive/MyDrive/GroceryStoreDataset/train/Orange\n",
            "/content/drive/MyDrive/GroceryStoreDataset/train/Peach\n",
            "/content/drive/MyDrive/GroceryStoreDataset/train/Watermelon\n",
            "/content/drive/MyDrive/GroceryStoreDataset/train/Mango\n",
            "/content/drive/MyDrive/GroceryStoreDataset/train/Cucumber\n",
            "/content/drive/MyDrive/GroceryStoreDataset/train/Asparagus\n",
            "/content/drive/MyDrive/GroceryStoreDataset/train/Garlic\n",
            "/content/drive/MyDrive/GroceryStoreDataset/train/Leek\n",
            "/content/drive/MyDrive/GroceryStoreDataset/train/Carrots\n",
            "/content/drive/MyDrive/GroceryStoreDataset/train/Cabbage\n",
            "/content/drive/MyDrive/GroceryStoreDataset/train/Ginger\n",
            "/content/drive/MyDrive/GroceryStoreDataset/train/Red-Beet\n",
            "/content/drive/MyDrive/GroceryStoreDataset/train/Sweet-Potato\n",
            "/content/drive/MyDrive/GroceryStoreDataset/train/Regular-Tomato\n",
            "/content/drive/MyDrive/GroceryStoreDataset/train/Solid-Potato\n",
            "/content/drive/MyDrive/GroceryStoreDataset/train/Pepper\n",
            "/content/drive/MyDrive/GroceryStoreDataset/train/Vine-Tomato\n",
            "/content/drive/MyDrive/GroceryStoreDataset/train/Yellow-Onion\n",
            "/content/drive/MyDrive/GroceryStoreDataset/train/Zucchini\n",
            "/content/drive/MyDrive/GroceryStoreDataset/test\n",
            "/content/drive/MyDrive/GroceryStoreDataset/test/Avocado\n",
            "/content/drive/MyDrive/GroceryStoreDataset/test/Banana\n",
            "/content/drive/MyDrive/GroceryStoreDataset/test/Red-Delicious\n",
            "/content/drive/MyDrive/GroceryStoreDataset/test/Granny-Smith\n",
            "/content/drive/MyDrive/GroceryStoreDataset/test/Cantaloupe\n",
            "/content/drive/MyDrive/GroceryStoreDataset/test/Orange\n",
            "/content/drive/MyDrive/GroceryStoreDataset/test/Kiwi\n",
            "/content/drive/MyDrive/GroceryStoreDataset/test/Mango\n",
            "/content/drive/MyDrive/GroceryStoreDataset/test/Peach\n",
            "/content/drive/MyDrive/GroceryStoreDataset/test/Passion-Fruit\n",
            "/content/drive/MyDrive/GroceryStoreDataset/test/Watermelon\n",
            "/content/drive/MyDrive/GroceryStoreDataset/test/Papaya\n",
            "/content/drive/MyDrive/GroceryStoreDataset/test/Pomegranate\n",
            "/content/drive/MyDrive/GroceryStoreDataset/test/Pineapple\n",
            "/content/drive/MyDrive/GroceryStoreDataset/test/Plum\n",
            "/content/drive/MyDrive/GroceryStoreDataset/test/Lemon\n",
            "/content/drive/MyDrive/GroceryStoreDataset/test/Nectarine\n",
            "/content/drive/MyDrive/GroceryStoreDataset/test/Lime\n",
            "/content/drive/MyDrive/GroceryStoreDataset/test/Red-Grapefruit\n",
            "/content/drive/MyDrive/GroceryStoreDataset/test/Leek\n",
            "/content/drive/MyDrive/GroceryStoreDataset/test/Cucumber\n",
            "/content/drive/MyDrive/GroceryStoreDataset/test/Carrots\n",
            "/content/drive/MyDrive/GroceryStoreDataset/test/Ginger\n",
            "/content/drive/MyDrive/GroceryStoreDataset/test/Cabbage\n",
            "/content/drive/MyDrive/GroceryStoreDataset/test/Garlic\n",
            "/content/drive/MyDrive/GroceryStoreDataset/test/Asparagus\n",
            "/content/drive/MyDrive/GroceryStoreDataset/test/Yellow-Onion\n",
            "/content/drive/MyDrive/GroceryStoreDataset/test/Zucchini\n",
            "/content/drive/MyDrive/GroceryStoreDataset/test/Pepper\n",
            "/content/drive/MyDrive/GroceryStoreDataset/test/Solid-Potato\n",
            "/content/drive/MyDrive/GroceryStoreDataset/test/Sweet-Potato\n",
            "/content/drive/MyDrive/GroceryStoreDataset/test/Vine-Tomato\n",
            "/content/drive/MyDrive/GroceryStoreDataset/test/Regular-Tomato\n",
            "/content/drive/MyDrive/GroceryStoreDataset/test/Red-Beet\n"
          ]
        }
      ]
    },
    {
      "cell_type": "code",
      "source": [
        "from google.colab import drive\n",
        "drive.mount('/content/drive')"
      ],
      "metadata": {
        "id": "RGGyPQtf7r2i",
        "outputId": "dbb34a47-c001-42aa-e295-5cee5a1dd938",
        "colab": {
          "base_uri": "https://localhost:8080/"
        }
      },
      "execution_count": 8,
      "outputs": [
        {
          "output_type": "stream",
          "name": "stdout",
          "text": [
            "Mounted at /content/drive\n"
          ]
        }
      ]
    },
    {
      "cell_type": "code",
      "source": [
        "image_datasets = {x: datasets.ImageFolder(os.path.join(data_dir, x), data_transforms[x])\n",
        "                  for x in ['train', 'test']}  # Assuming you have train and test folders\n",
        "dataloaders = {x: DataLoader(image_datasets[x], batch_size=16, shuffle=True, num_workers=2)\n",
        "              for x in ['train', 'test']}\n",
        "dataset_sizes = {x: len(image_datasets[x]) for x in ['train', 'test']}\n",
        "\n",
        "print(f\"Dataset sizes: {dataset_sizes}\")"
      ],
      "metadata": {
        "colab": {
          "base_uri": "https://localhost:8080/"
        },
        "id": "QxlSKZia4Nnq",
        "outputId": "c999ddef-fbb5-4e8e-fd23-296de98403dc"
      },
      "execution_count": 24,
      "outputs": [
        {
          "output_type": "stream",
          "name": "stdout",
          "text": [
            "Dataset sizes: {'train': 1236, 'test': 1205}\n"
          ]
        }
      ]
    },
    {
      "cell_type": "code",
      "source": [
        "class_names = image_datasets['train'].classes\n",
        "\n",
        "print(class_names)\n",
        "print(len(class_names))\n",
        "\n",
        "class_names = image_datasets['test'].classes\n",
        "\n",
        "print(class_names)\n",
        "print(len(class_names))\n",
        "\n",
        "num_classes = len(class_names)"
      ],
      "metadata": {
        "colab": {
          "base_uri": "https://localhost:8080/"
        },
        "id": "dQfGgMDJJzbS",
        "outputId": "39452b81-594c-4e12-817c-f6f74ab04cd7"
      },
      "execution_count": 25,
      "outputs": [
        {
          "output_type": "stream",
          "name": "stdout",
          "text": [
            "['Asparagus', 'Avocado', 'Banana', 'Cabbage', 'Cantaloupe', 'Carrots', 'Cucumber', 'Garlic', 'Ginger', 'Granny-Smith', 'Kiwi', 'Leek', 'Lemon', 'Lime', 'Mango', 'Nectarine', 'Orange', 'Papaya', 'Passion-Fruit', 'Peach', 'Pepper', 'Pineapple', 'Plum', 'Pomegranate', 'Red-Beet', 'Red-Delicious', 'Red-Grapefruit', 'Regular-Tomato', 'Solid-Potato', 'Sweet-Potato', 'Vine-Tomato', 'Watermelon', 'Yellow-Onion', 'Zucchini']\n",
            "34\n",
            "['Asparagus', 'Avocado', 'Banana', 'Cabbage', 'Cantaloupe', 'Carrots', 'Cucumber', 'Garlic', 'Ginger', 'Granny-Smith', 'Kiwi', 'Leek', 'Lemon', 'Lime', 'Mango', 'Nectarine', 'Orange', 'Papaya', 'Passion-Fruit', 'Peach', 'Pepper', 'Pineapple', 'Plum', 'Pomegranate', 'Red-Beet', 'Red-Delicious', 'Red-Grapefruit', 'Regular-Tomato', 'Solid-Potato', 'Sweet-Potato', 'Vine-Tomato', 'Watermelon', 'Yellow-Onion', 'Zucchini']\n",
            "34\n"
          ]
        }
      ]
    },
    {
      "cell_type": "code",
      "source": [
        "# Load pre-trained EfficientNetB4\n",
        "model = models.efficientnet_b4(pretrained=True)\n",
        "\n",
        "# Modify the classifier\n",
        "num_ftrs = model.classifier[1].in_features\n",
        "model.classifier[1] = nn.Linear(num_ftrs, num_classes)\n",
        "model = model.to(device)\n",
        "\n",
        "criterion = nn.CrossEntropyLoss()\n",
        "optimizer = optim.SGD(model.parameters(), lr=0.001, momentum=0.9)"
      ],
      "metadata": {
        "id": "-HTLL6AAcz85",
        "colab": {
          "base_uri": "https://localhost:8080/"
        },
        "outputId": "ebea0536-8bd5-4343-d5b7-d465664a17ac"
      },
      "execution_count": 26,
      "outputs": [
        {
          "output_type": "stream",
          "name": "stderr",
          "text": [
            "/usr/local/lib/python3.11/dist-packages/torchvision/models/_utils.py:208: UserWarning: The parameter 'pretrained' is deprecated since 0.13 and may be removed in the future, please use 'weights' instead.\n",
            "  warnings.warn(\n",
            "/usr/local/lib/python3.11/dist-packages/torchvision/models/_utils.py:223: UserWarning: Arguments other than a weight enum or `None` for 'weights' are deprecated since 0.13 and may be removed in the future. The current behavior is equivalent to passing `weights=EfficientNet_B4_Weights.IMAGENET1K_V1`. You can also use `weights=EfficientNet_B4_Weights.DEFAULT` to get the most up-to-date weights.\n",
            "  warnings.warn(msg)\n",
            "Downloading: \"https://download.pytorch.org/models/efficientnet_b4_rwightman-23ab8bcd.pth\" to /root/.cache/torch/hub/checkpoints/efficientnet_b4_rwightman-23ab8bcd.pth\n",
            "100%|██████████| 74.5M/74.5M [00:00<00:00, 88.9MB/s]\n"
          ]
        }
      ]
    },
    {
      "cell_type": "code",
      "source": [
        "def predict_image(image_path, model, class_names):\n",
        "  img = Image.open(image_path).convert('RGB')\n",
        "  img_t = data_transforms['test'](img).unsqueeze(0)\n",
        "  img_t = img_t.to(device)\n",
        "  model.eval()\n",
        "  with torch.no_grad():\n",
        "    out = model(img_t)\n",
        "    _, index = torch.max(out, 1)\n",
        "    percentage = torch.nn.functional.softmax(out, dim=1)[0] * 100\n",
        "    print(f\"Predicted Class: {class_names[index[0]]}, Confidence: {percentage[index[0]].item():.2f}%\")"
      ],
      "metadata": {
        "id": "xiQz7UkGmp-T"
      },
      "execution_count": 27,
      "outputs": []
    },
    {
      "cell_type": "code",
      "source": [
        "def train_model(model, criterion, optimizer, num_epochs=25):\n",
        "    history = {'train_loss': [], 'train_acc': [], 'test_loss': [], 'test_acc': []}\n",
        "    for epoch in range(num_epochs):\n",
        "        print('Epoch {}/{}'.format(epoch, num_epochs - 1))\n",
        "        now = datetime.now()\n",
        "        print(now.strftime(\"%Y-%m-%d %H:%M:%S\"))\n",
        "        print('-' * 10)\n",
        "\n",
        "        for phase in ['train', 'test']:\n",
        "            if phase == 'train':\n",
        "                model.train()\n",
        "            else:\n",
        "                model.eval()\n",
        "            running_loss = 0.0\n",
        "            running_corrects = 0\n",
        "\n",
        "            i = 0\n",
        "            for inputs, labels in dataloaders[phase]:\n",
        "                i += 1\n",
        "                if i % 10 == 0:\n",
        "                    print(f\"Batch {i} of {len(dataloaders[phase])}\")\n",
        "                inputs = inputs.to(device)\n",
        "                labels = labels.to(device)\n",
        "                optimizer.zero_grad()\n",
        "                with torch.set_grad_enabled(phase == 'train'):\n",
        "                    outputs = model(inputs)\n",
        "                    _, preds = torch.max(outputs, 1)\n",
        "                    loss = criterion(outputs, labels)\n",
        "                    if phase == 'train':\n",
        "                        loss.backward()\n",
        "                        optimizer.step()\n",
        "                running_loss += loss.item() * inputs.size(0)\n",
        "                running_corrects += torch.sum(preds == labels.data)\n",
        "            epoch_loss = running_loss / dataset_sizes[phase]\n",
        "            epoch_acc = running_corrects.double() / dataset_sizes[phase]\n",
        "\n",
        "            print('{} Loss: {:.4f} Acc: {:.4f}'.format(phase, epoch_loss, epoch_acc))\n",
        "\n",
        "            history[f'{phase}_loss'].append(epoch_loss)\n",
        "            history[f'{phase}_acc'].append(epoch_acc)\n",
        "\n",
        "    return model, history"
      ],
      "metadata": {
        "id": "uYHty5B3c0tR"
      },
      "execution_count": 28,
      "outputs": []
    },
    {
      "cell_type": "code",
      "source": [
        "# Before training\n",
        "predict_image('/content/drive/MyDrive/GroceryStoreDataset/test/Mango/Mango_002.jpg', model, class_names)\n",
        "predict_image('/content/drive/MyDrive/GroceryStoreDataset/test/Pineapple/Pineapple_021.jpg', model, class_names)\n"
      ],
      "metadata": {
        "colab": {
          "base_uri": "https://localhost:8080/"
        },
        "id": "_JS0IIf3nomp",
        "outputId": "131b9e92-3b7f-45d9-bbd9-dfed1cbc6bb5"
      },
      "execution_count": 31,
      "outputs": [
        {
          "output_type": "stream",
          "name": "stdout",
          "text": [
            "Predicted Class: Mango, Confidence: 3.50%\n",
            "Predicted Class: Pomegranate, Confidence: 3.20%\n"
          ]
        }
      ]
    },
    {
      "cell_type": "code",
      "source": [
        "model, history = train_model(model, criterion, optimizer, num_epochs=15)\n"
      ],
      "metadata": {
        "id": "XmK6M7JfdI6F",
        "colab": {
          "base_uri": "https://localhost:8080/"
        },
        "outputId": "c1c301ba-ce06-4a8a-e7c7-cd53e43c6065",
        "collapsed": true
      },
      "execution_count": 36,
      "outputs": [
        {
          "output_type": "stream",
          "name": "stdout",
          "text": [
            "Epoch 0/14\n",
            "2025-04-14 07:12:52\n",
            "----------\n",
            "Batch 10 of 78\n",
            "Batch 20 of 78\n",
            "Batch 30 of 78\n",
            "Batch 40 of 78\n",
            "Batch 50 of 78\n",
            "Batch 60 of 78\n",
            "Batch 70 of 78\n",
            "train Loss: 2.9396 Acc: 0.2338\n",
            "Batch 10 of 76\n",
            "Batch 20 of 76\n",
            "Batch 30 of 76\n",
            "Batch 40 of 76\n",
            "Batch 50 of 76\n",
            "Batch 60 of 76\n",
            "Batch 70 of 76\n",
            "test Loss: 2.9349 Acc: 0.2523\n",
            "Epoch 1/14\n",
            "2025-04-14 07:13:18\n",
            "----------\n",
            "Batch 10 of 78\n",
            "Batch 20 of 78\n",
            "Batch 30 of 78\n",
            "Batch 40 of 78\n",
            "Batch 50 of 78\n",
            "Batch 60 of 78\n",
            "Batch 70 of 78\n",
            "train Loss: 2.7812 Acc: 0.3147\n",
            "Batch 10 of 76\n",
            "Batch 20 of 76\n",
            "Batch 30 of 76\n",
            "Batch 40 of 76\n",
            "Batch 50 of 76\n",
            "Batch 60 of 76\n",
            "Batch 70 of 76\n",
            "test Loss: 2.7631 Acc: 0.3917\n",
            "Epoch 2/14\n",
            "2025-04-14 07:13:44\n",
            "----------\n",
            "Batch 10 of 78\n",
            "Batch 20 of 78\n",
            "Batch 30 of 78\n",
            "Batch 40 of 78\n",
            "Batch 50 of 78\n",
            "Batch 60 of 78\n",
            "Batch 70 of 78\n",
            "train Loss: 2.5512 Acc: 0.4005\n",
            "Batch 10 of 76\n",
            "Batch 20 of 76\n",
            "Batch 30 of 76\n",
            "Batch 40 of 76\n",
            "Batch 50 of 76\n",
            "Batch 60 of 76\n",
            "Batch 70 of 76\n",
            "test Loss: 2.4247 Acc: 0.4656\n",
            "Epoch 3/14\n",
            "2025-04-14 07:14:09\n",
            "----------\n",
            "Batch 10 of 78\n",
            "Batch 20 of 78\n",
            "Batch 30 of 78\n",
            "Batch 40 of 78\n",
            "Batch 50 of 78\n",
            "Batch 60 of 78\n",
            "Batch 70 of 78\n",
            "train Loss: 2.0432 Acc: 0.5372\n",
            "Batch 10 of 76\n",
            "Batch 20 of 76\n",
            "Batch 30 of 76\n",
            "Batch 40 of 76\n",
            "Batch 50 of 76\n",
            "Batch 60 of 76\n",
            "Batch 70 of 76\n",
            "test Loss: 1.9401 Acc: 0.6050\n",
            "Epoch 4/14\n",
            "2025-04-14 07:14:35\n",
            "----------\n",
            "Batch 10 of 78\n",
            "Batch 20 of 78\n",
            "Batch 30 of 78\n",
            "Batch 40 of 78\n",
            "Batch 50 of 78\n",
            "Batch 60 of 78\n",
            "Batch 70 of 78\n",
            "train Loss: 1.6643 Acc: 0.6270\n",
            "Batch 10 of 76\n",
            "Batch 20 of 76\n",
            "Batch 30 of 76\n",
            "Batch 40 of 76\n",
            "Batch 50 of 76\n",
            "Batch 60 of 76\n",
            "Batch 70 of 76\n",
            "test Loss: 1.5616 Acc: 0.6622\n",
            "Epoch 5/14\n",
            "2025-04-14 07:15:01\n",
            "----------\n",
            "Batch 10 of 78\n",
            "Batch 20 of 78\n",
            "Batch 30 of 78\n",
            "Batch 40 of 78\n",
            "Batch 50 of 78\n",
            "Batch 60 of 78\n",
            "Batch 70 of 78\n",
            "train Loss: 1.4111 Acc: 0.6634\n",
            "Batch 10 of 76\n",
            "Batch 20 of 76\n",
            "Batch 30 of 76\n",
            "Batch 40 of 76\n",
            "Batch 50 of 76\n",
            "Batch 60 of 76\n",
            "Batch 70 of 76\n",
            "test Loss: 1.4109 Acc: 0.6589\n",
            "Epoch 6/14\n",
            "2025-04-14 07:15:28\n",
            "----------\n",
            "Batch 10 of 78\n",
            "Batch 20 of 78\n",
            "Batch 30 of 78\n",
            "Batch 40 of 78\n",
            "Batch 50 of 78\n",
            "Batch 60 of 78\n",
            "Batch 70 of 78\n",
            "train Loss: 1.1580 Acc: 0.7225\n",
            "Batch 10 of 76\n",
            "Batch 20 of 76\n",
            "Batch 30 of 76\n",
            "Batch 40 of 76\n",
            "Batch 50 of 76\n",
            "Batch 60 of 76\n",
            "Batch 70 of 76\n",
            "test Loss: 1.1261 Acc: 0.7162\n",
            "Epoch 7/14\n",
            "2025-04-14 07:15:54\n",
            "----------\n",
            "Batch 10 of 78\n",
            "Batch 20 of 78\n",
            "Batch 30 of 78\n",
            "Batch 40 of 78\n",
            "Batch 50 of 78\n",
            "Batch 60 of 78\n",
            "Batch 70 of 78\n",
            "train Loss: 0.9830 Acc: 0.7581\n",
            "Batch 10 of 76\n",
            "Batch 20 of 76\n",
            "Batch 30 of 76\n",
            "Batch 40 of 76\n",
            "Batch 50 of 76\n",
            "Batch 60 of 76\n",
            "Batch 70 of 76\n",
            "test Loss: 0.9878 Acc: 0.7378\n",
            "Epoch 8/14\n",
            "2025-04-14 07:16:20\n",
            "----------\n",
            "Batch 10 of 78\n",
            "Batch 20 of 78\n",
            "Batch 30 of 78\n",
            "Batch 40 of 78\n",
            "Batch 50 of 78\n",
            "Batch 60 of 78\n",
            "Batch 70 of 78\n",
            "train Loss: 0.8486 Acc: 0.7816\n",
            "Batch 10 of 76\n",
            "Batch 20 of 76\n",
            "Batch 30 of 76\n",
            "Batch 40 of 76\n",
            "Batch 50 of 76\n",
            "Batch 60 of 76\n",
            "Batch 70 of 76\n",
            "test Loss: 0.9988 Acc: 0.7112\n",
            "Epoch 9/14\n",
            "2025-04-14 07:16:47\n",
            "----------\n",
            "Batch 10 of 78\n",
            "Batch 20 of 78\n",
            "Batch 30 of 78\n",
            "Batch 40 of 78\n",
            "Batch 50 of 78\n",
            "Batch 60 of 78\n",
            "Batch 70 of 78\n",
            "train Loss: 0.8151 Acc: 0.7945\n",
            "Batch 10 of 76\n",
            "Batch 20 of 76\n",
            "Batch 30 of 76\n",
            "Batch 40 of 76\n",
            "Batch 50 of 76\n",
            "Batch 60 of 76\n",
            "Batch 70 of 76\n",
            "test Loss: 0.8858 Acc: 0.7527\n",
            "Epoch 10/14\n",
            "2025-04-14 07:17:13\n",
            "----------\n",
            "Batch 10 of 78\n",
            "Batch 20 of 78\n",
            "Batch 30 of 78\n",
            "Batch 40 of 78\n",
            "Batch 50 of 78\n",
            "Batch 60 of 78\n",
            "Batch 70 of 78\n",
            "train Loss: 0.7197 Acc: 0.8018\n",
            "Batch 10 of 76\n",
            "Batch 20 of 76\n",
            "Batch 30 of 76\n",
            "Batch 40 of 76\n",
            "Batch 50 of 76\n",
            "Batch 60 of 76\n",
            "Batch 70 of 76\n",
            "test Loss: 0.8865 Acc: 0.7237\n",
            "Epoch 11/14\n",
            "2025-04-14 07:17:39\n",
            "----------\n",
            "Batch 10 of 78\n",
            "Batch 20 of 78\n",
            "Batch 30 of 78\n",
            "Batch 40 of 78\n",
            "Batch 50 of 78\n",
            "Batch 60 of 78\n",
            "Batch 70 of 78\n",
            "train Loss: 0.6546 Acc: 0.8196\n",
            "Batch 10 of 76\n",
            "Batch 20 of 76\n",
            "Batch 30 of 76\n",
            "Batch 40 of 76\n",
            "Batch 50 of 76\n",
            "Batch 60 of 76\n",
            "Batch 70 of 76\n",
            "test Loss: 0.7676 Acc: 0.7701\n",
            "Epoch 12/14\n",
            "2025-04-14 07:18:05\n",
            "----------\n",
            "Batch 10 of 78\n",
            "Batch 20 of 78\n",
            "Batch 30 of 78\n",
            "Batch 40 of 78\n",
            "Batch 50 of 78\n",
            "Batch 60 of 78\n",
            "Batch 70 of 78\n",
            "train Loss: 0.6607 Acc: 0.8131\n",
            "Batch 10 of 76\n",
            "Batch 20 of 76\n",
            "Batch 30 of 76\n",
            "Batch 40 of 76\n",
            "Batch 50 of 76\n",
            "Batch 60 of 76\n",
            "Batch 70 of 76\n",
            "test Loss: 0.7175 Acc: 0.7867\n",
            "Epoch 13/14\n",
            "2025-04-14 07:18:31\n",
            "----------\n",
            "Batch 10 of 78\n",
            "Batch 20 of 78\n",
            "Batch 30 of 78\n",
            "Batch 40 of 78\n",
            "Batch 50 of 78\n",
            "Batch 60 of 78\n",
            "Batch 70 of 78\n",
            "train Loss: 0.5746 Acc: 0.8382\n",
            "Batch 10 of 76\n",
            "Batch 20 of 76\n",
            "Batch 30 of 76\n",
            "Batch 40 of 76\n",
            "Batch 50 of 76\n",
            "Batch 60 of 76\n",
            "Batch 70 of 76\n",
            "test Loss: 0.7453 Acc: 0.7602\n",
            "Epoch 14/14\n",
            "2025-04-14 07:18:57\n",
            "----------\n",
            "Batch 10 of 78\n",
            "Batch 20 of 78\n",
            "Batch 30 of 78\n",
            "Batch 40 of 78\n",
            "Batch 50 of 78\n",
            "Batch 60 of 78\n",
            "Batch 70 of 78\n",
            "train Loss: 0.5039 Acc: 0.8592\n",
            "Batch 10 of 76\n",
            "Batch 20 of 76\n",
            "Batch 30 of 76\n",
            "Batch 40 of 76\n",
            "Batch 50 of 76\n",
            "Batch 60 of 76\n",
            "Batch 70 of 76\n",
            "test Loss: 0.6905 Acc: 0.7743\n"
          ]
        }
      ]
    },
    {
      "cell_type": "code",
      "source": [
        "metrics = {\n",
        "    'train_loss': history['train_loss'],\n",
        "    'train_acc': [t.cpu().item() for t in history['train_acc']],\n",
        "    'test_loss': history['test_loss'],\n",
        "    'test_acc': [t.cpu().item() for t in history['test_acc']]\n",
        "}\n",
        "\n",
        "print(metrics)\n",
        "\n",
        "# Plot the training history\n",
        "plt.figure(figsize=(10, 5))\n",
        "plt.subplot(1, 2, 1)\n",
        "plt.plot(metrics['train_loss'], label='Train Loss')\n",
        "plt.plot(metrics['test_loss'], label='Test Loss')\n",
        "plt.legend()\n",
        "plt.title('Loss')\n",
        "\n",
        "plt.subplot(1, 2, 2)\n",
        "plt.plot(metrics['train_acc'], label='Train Accuracy')\n",
        "plt.plot(metrics['test_acc'], label='Test Accuracy')\n",
        "plt.legend()\n",
        "plt.title('Accuracy')\n",
        "plt.show()"
      ],
      "metadata": {
        "colab": {
          "base_uri": "https://localhost:8080/",
          "height": 506
        },
        "id": "t16NKwwMk8Ll",
        "outputId": "de238b91-c1a8-4909-a7b3-3b7b6de9e66f"
      },
      "execution_count": 37,
      "outputs": [
        {
          "output_type": "stream",
          "name": "stdout",
          "text": [
            "{'train_loss': [2.939614772796631, 2.7812333045268134, 2.551223243324502, 2.0431741433621995, 1.664299326807164, 1.4111341365332741, 1.1579991891546157, 0.9830345632960495, 0.8485666540448333, 0.8150723053799478, 0.7197002905472197, 0.654552867497441, 0.6607046181330017, 0.5745520616812227, 0.5038641411509714], 'train_acc': [0.23381877022653721, 0.31472491909385114, 0.4004854368932039, 0.5372168284789645, 0.6270226537216829, 0.6634304207119741, 0.7224919093851133, 0.7580906148867315, 0.7815533980582524, 0.7944983818770227, 0.801779935275081, 0.81957928802589, 0.8131067961165049, 0.8381877022653722, 0.8592233009708738], 'test_loss': [2.9348642671751284, 2.7630943832555745, 2.424689084365655, 1.9400783788119114, 1.5616399621567785, 1.410853544706131, 1.126143759315934, 0.9878109793445381, 0.9988294997155913, 0.8858235310716748, 0.8865179150925633, 0.76755138274545, 0.7175433994823471, 0.7453218286833823, 0.6905418983633588], 'test_acc': [0.25228215767634854, 0.391701244813278, 0.46556016597510375, 0.6049792531120332, 0.6622406639004149, 0.6589211618257261, 0.7161825726141079, 0.737759336099585, 0.7112033195020747, 0.7526970954356846, 0.7236514522821577, 0.7701244813278008, 0.7867219917012448, 0.7601659751037344, 0.7742738589211619]}\n"
          ]
        },
        {
          "output_type": "display_data",
          "data": {
            "text/plain": [
              "<Figure size 1000x500 with 2 Axes>"
            ],
            "image/png": "[encoded data removed]"
          },
          "metadata": {}
        }
      ]
    },
    {
      "cell_type": "code",
      "source": [
        "# save the trained model\n",
        "torch.save(model, '/content/drive/MyDrive/GroceryStoreDataset/complete_model.pth')\n"
      ],
      "metadata": {
        "id": "UIVE84gMkWdD"
      },
      "execution_count": 38,
      "outputs": []
    },
    {
      "cell_type": "code",
      "source": [
        "# After training\n",
        "predict_image('/content/drive/MyDrive/GroceryStoreDataset/test/Mango/Mango_002.jpg', model, class_names)\n",
        "predict_image('/content/drive/MyDrive/GroceryStoreDataset/test/Pineapple/Pineapple_021.jpg', model, class_names)\n"
      ],
      "metadata": {
        "id": "dK1rXYLzdRf_",
        "colab": {
          "base_uri": "https://localhost:8080/"
        },
        "outputId": "db649fa1-a011-49ac-c234-7bad180ef073"
      },
      "execution_count": 39,
      "outputs": [
        {
          "output_type": "stream",
          "name": "stdout",
          "text": [
            "Predicted Class: Mango, Confidence: 68.51%\n",
            "Predicted Class: Pineapple, Confidence: 80.23%\n"
          ]
        }
      ]
    },
    {
      "cell_type": "markdown",
      "source": [
        "### Project:\n",
        "\n",
        "1. Perform exploratory data analysis on the 'train' and 'test' datasets to calculate class imbalance (by comparing 'samples per class' across all the classes)\n",
        "2. Print confusion matrix, precision, recall and f1-score\n",
        "3. Show a grid of 6x4 images, with actual and predicted class for each of those\n",
        "\n",
        "\n",
        "### Bonus Project:\n",
        "\n",
        "1. Allow user to input the items they shopped using images, use model to identify grocery item based on confidence threshold. If confidence is low, ask user to manually input the item.\n",
        "2. Update the digital grocery cart\n",
        "3. Process the transaction by generating a transaction receipt\n"
      ],
      "metadata": {
        "id": "LTcyENYCtxXm"
      }
    }
  ]
}